{
 "cells": [
  {
   "cell_type": "markdown",
   "metadata": {},
   "source": [
    "## Theory\n"
   ]
  },
  {
   "cell_type": "markdown",
   "metadata": {},
   "source": [
    "### The quadratic-plateau model\n",
    "The quadratic-plateau model is often identified as the most appropriate model for nitrogen response in corn. It is a piecewise function that can be described as:\n",
    "\n",
    "\\begin{equation}\n",
    "y_i =\\begin{cases}\\beta_0 + \\beta_1x_i + \\beta_2x_i^2 + \\epsilon_i & if\\ x_i < \\frac{-\\beta_1}{2\\beta_2}\n",
    "\\\\{\\beta_0} - \\frac{{\\beta_1^2}}{4{\\beta_2}} + \\epsilon_i & if\\ x_i \\geq \\frac{-\\beta_1}{2\\beta_2}\\end{cases}\n",
    "\\label{qp}\n",
    "\\end{equation}\n",
    "\n",
    "where $y_{i}$ can represent grain yield (kg ha-1) or monetary return (\\\\$ ha-1) from grain yield, $x_{i}$ represents quantity of nitrogen fertilizer applied, and $\\beta_{0}$, $\\beta_{1}$, and $\\beta_{2}$ are the coefficients estimated from the experimental data assuming identically and independently distributed errors, $\\epsilon_{i}$.\n",
    "\n",
    "The point on the x-axis where the net return curve (green) reaches the maximum return is the **EONR/MRTN**. The profile-likelihood 90\\% CIs are illustrated as a transparent grey box surrounding the EONR/MRTN point."
   ]
  },
  {
   "cell_type": "code",
   "execution_count": null,
   "metadata": {},
   "outputs": [],
   "source": []
  }
 ],
 "metadata": {
  "kernelspec": {
   "display_name": "Python 3",
   "language": "python",
   "name": "python3"
  },
  "language_info": {
   "codemirror_mode": {
    "name": "ipython",
    "version": 3
   },
   "file_extension": ".py",
   "mimetype": "text/x-python",
   "name": "python",
   "nbconvert_exporter": "python",
   "pygments_lexer": "ipython3",
   "version": "3.6.7"
  }
 },
 "nbformat": 4,
 "nbformat_minor": 2
}
